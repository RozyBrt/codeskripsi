{
 "cells": [
  {
   "cell_type": "code",
   "execution_count": 1,
   "metadata": {},
   "outputs": [
    {
     "name": "stderr",
     "output_type": "stream",
     "text": [
      "[nltk_data] Downloading package stopwords to\n",
      "[nltk_data]     C:\\Users\\rozym\\AppData\\Roaming\\nltk_data...\n",
      "[nltk_data]   Package stopwords is already up-to-date!\n",
      "[nltk_data] Downloading package wordnet to\n",
      "[nltk_data]     C:\\Users\\rozym\\AppData\\Roaming\\nltk_data...\n",
      "[nltk_data]   Package wordnet is already up-to-date!\n"
     ]
    }
   ],
   "source": [
    "import pandas as pd\n",
    "import numpy as np\n",
    "from nltk.corpus import stopwords\n",
    "import re\n",
    "import nltk\n",
    "nltk.download('stopwords')\n",
    "nltk.download('wordnet')\n",
    "from nltk.stem import PorterStemmer\n",
    "from nltk.stem import LancasterStemmer"
   ]
  },
  {
   "cell_type": "code",
   "execution_count": 4,
   "metadata": {},
   "outputs": [
    {
     "data": {
      "text/html": [
       "<div>\n",
       "<style scoped>\n",
       "    .dataframe tbody tr th:only-of-type {\n",
       "        vertical-align: middle;\n",
       "    }\n",
       "\n",
       "    .dataframe tbody tr th {\n",
       "        vertical-align: top;\n",
       "    }\n",
       "\n",
       "    .dataframe thead th {\n",
       "        text-align: right;\n",
       "    }\n",
       "</style>\n",
       "<table border=\"1\" class=\"dataframe\">\n",
       "  <thead>\n",
       "    <tr style=\"text-align: right;\">\n",
       "      <th></th>\n",
       "      <th>conversation_id_str</th>\n",
       "      <th>created_at</th>\n",
       "      <th>favorite_count</th>\n",
       "      <th>full_text</th>\n",
       "      <th>id_str</th>\n",
       "      <th>image_url</th>\n",
       "      <th>in_reply_to_screen_name</th>\n",
       "      <th>lang</th>\n",
       "      <th>location</th>\n",
       "      <th>quote_count</th>\n",
       "      <th>reply_count</th>\n",
       "      <th>retweet_count</th>\n",
       "      <th>tweet_url</th>\n",
       "      <th>user_id_str</th>\n",
       "      <th>username</th>\n",
       "    </tr>\n",
       "  </thead>\n",
       "  <tbody>\n",
       "    <tr>\n",
       "      <th>0</th>\n",
       "      <td>1774583903770280445</td>\n",
       "      <td>Sun Mar 31 23:45:47 +0000 2024</td>\n",
       "      <td>0</td>\n",
       "      <td>Kalo dipikir2 kita sama2 pindah tempat kerja. ...</td>\n",
       "      <td>1774583903770280445</td>\n",
       "      <td>NaN</td>\n",
       "      <td>NaN</td>\n",
       "      <td>in</td>\n",
       "      <td>SHINee World</td>\n",
       "      <td>0</td>\n",
       "      <td>1</td>\n",
       "      <td>0</td>\n",
       "      <td>https://x.com/minglup/status/1774583903770280445</td>\n",
       "      <td>118003570</td>\n",
       "      <td>minglup</td>\n",
       "    </tr>\n",
       "    <tr>\n",
       "      <th>1</th>\n",
       "      <td>1774380126702321731</td>\n",
       "      <td>Sun Mar 31 23:02:53 +0000 2024</td>\n",
       "      <td>2</td>\n",
       "      <td>@bandacatturas semangat . bisa kl kerja dsana ...</td>\n",
       "      <td>1774573107342381301</td>\n",
       "      <td>NaN</td>\n",
       "      <td>bandacatturas</td>\n",
       "      <td>in</td>\n",
       "      <td>Bekasi Barat, Indonesia</td>\n",
       "      <td>0</td>\n",
       "      <td>1</td>\n",
       "      <td>0</td>\n",
       "      <td>https://x.com/SateTong/status/1774573107342381301</td>\n",
       "      <td>1303805490627923968</td>\n",
       "      <td>SateTong</td>\n",
       "    </tr>\n",
       "  </tbody>\n",
       "</table>\n",
       "</div>"
      ],
      "text/plain": [
       "   conversation_id_str                      created_at  favorite_count  \\\n",
       "0  1774583903770280445  Sun Mar 31 23:45:47 +0000 2024               0   \n",
       "1  1774380126702321731  Sun Mar 31 23:02:53 +0000 2024               2   \n",
       "\n",
       "                                           full_text               id_str  \\\n",
       "0  Kalo dipikir2 kita sama2 pindah tempat kerja. ...  1774583903770280445   \n",
       "1  @bandacatturas semangat . bisa kl kerja dsana ...  1774573107342381301   \n",
       "\n",
       "  image_url in_reply_to_screen_name lang                 location  \\\n",
       "0       NaN                     NaN   in             SHINee World   \n",
       "1       NaN           bandacatturas   in  Bekasi Barat, Indonesia   \n",
       "\n",
       "   quote_count  reply_count  retweet_count  \\\n",
       "0            0            1              0   \n",
       "1            0            1              0   \n",
       "\n",
       "                                           tweet_url          user_id_str  \\\n",
       "0   https://x.com/minglup/status/1774583903770280445            118003570   \n",
       "1  https://x.com/SateTong/status/1774573107342381301  1303805490627923968   \n",
       "\n",
       "   username  \n",
       "0   minglup  \n",
       "1  SateTong  "
      ]
     },
     "execution_count": 4,
     "metadata": {},
     "output_type": "execute_result"
    }
   ],
   "source": [
    "df = pd.read_csv('hasilscrapping.csv', header=0)\n",
    "df.head(2)"
   ]
  },
  {
   "cell_type": "code",
   "execution_count": 5,
   "metadata": {},
   "outputs": [
    {
     "name": "stdout",
     "output_type": "stream",
     "text": [
      "<class 'pandas.core.frame.DataFrame'>\n",
      "RangeIndex: 2108 entries, 0 to 2107\n",
      "Data columns (total 15 columns):\n",
      " #   Column                   Non-Null Count  Dtype \n",
      "---  ------                   --------------  ----- \n",
      " 0   conversation_id_str      2108 non-null   int64 \n",
      " 1   created_at               2108 non-null   object\n",
      " 2   favorite_count           2108 non-null   int64 \n",
      " 3   full_text                2108 non-null   object\n",
      " 4   id_str                   2108 non-null   int64 \n",
      " 5   image_url                93 non-null     object\n",
      " 6   in_reply_to_screen_name  1172 non-null   object\n",
      " 7   lang                     2108 non-null   object\n",
      " 8   location                 1256 non-null   object\n",
      " 9   quote_count              2108 non-null   int64 \n",
      " 10  reply_count              2108 non-null   int64 \n",
      " 11  retweet_count            2108 non-null   int64 \n",
      " 12  tweet_url                2108 non-null   object\n",
      " 13  user_id_str              2108 non-null   int64 \n",
      " 14  username                 2108 non-null   object\n",
      "dtypes: int64(7), object(8)\n",
      "memory usage: 247.2+ KB\n"
     ]
    }
   ],
   "source": [
    "df.info()"
   ]
  },
  {
   "cell_type": "code",
   "execution_count": 8,
   "metadata": {},
   "outputs": [],
   "source": [
    "# Case Folding\n",
    "def clean_lower(lwr):\n",
    "    lwr = lwr.lower()\n",
    "    return lwr\n",
    "\n",
    "# Membuat kolom tambahan untuk hasil dari case folding\n",
    "df['case_folding'] = df['full_text'].apply(clean_lower)\n",
    "casefolding = pd.DataFrame(df['case_folding'])\n",
    "casefolding\n",
    "\n",
    "casefolding.to_csv('hasilcasefolding.csv', index=0)"
   ]
  },
  {
   "cell_type": "code",
   "execution_count": 19,
   "metadata": {},
   "outputs": [
    {
     "data": {
      "text/plain": [
       "Index(['lowering'], dtype='object')"
      ]
     },
     "execution_count": 19,
     "metadata": {},
     "output_type": "execute_result"
    }
   ],
   "source": [
    "hasilcasefolding = pd.read_csv('hasilcasefolding.csv')\n",
    "hasilcasefolding.columns\n",
    "# hasilcasefolding.shape\n",
    "# hasilcasefolding.head"
   ]
  }
 ],
 "metadata": {
  "kernelspec": {
   "display_name": "base",
   "language": "python",
   "name": "python3"
  },
  "language_info": {
   "codemirror_mode": {
    "name": "ipython",
    "version": 3
   },
   "file_extension": ".py",
   "mimetype": "text/x-python",
   "name": "python",
   "nbconvert_exporter": "python",
   "pygments_lexer": "ipython3",
   "version": "3.11.5"
  }
 },
 "nbformat": 4,
 "nbformat_minor": 2
}
