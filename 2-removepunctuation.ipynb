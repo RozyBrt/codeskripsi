{
 "cells": [
  {
   "cell_type": "code",
   "execution_count": 4,
   "metadata": {},
   "outputs": [
    {
     "data": {
      "text/html": [
       "<div>\n",
       "<style scoped>\n",
       "    .dataframe tbody tr th:only-of-type {\n",
       "        vertical-align: middle;\n",
       "    }\n",
       "\n",
       "    .dataframe tbody tr th {\n",
       "        vertical-align: top;\n",
       "    }\n",
       "\n",
       "    .dataframe thead th {\n",
       "        text-align: right;\n",
       "    }\n",
       "</style>\n",
       "<table border=\"1\" class=\"dataframe\">\n",
       "  <thead>\n",
       "    <tr style=\"text-align: right;\">\n",
       "      <th></th>\n",
       "      <th>lowering</th>\n",
       "    </tr>\n",
       "  </thead>\n",
       "  <tbody>\n",
       "    <tr>\n",
       "      <th>0</th>\n",
       "      <td>kalo dipikir2 kita sama2 pindah tempat kerja. ...</td>\n",
       "    </tr>\n",
       "    <tr>\n",
       "      <th>1</th>\n",
       "      <td>@bandacatturas semangat . bisa kl kerja dsana ...</td>\n",
       "    </tr>\n",
       "    <tr>\n",
       "      <th>2</th>\n",
       "      <td>semalam tgl dkt taman maluri. pagi ni bangun2 ...</td>\n",
       "    </tr>\n",
       "    <tr>\n",
       "      <th>3</th>\n",
       "      <td>@tanyakanrl katanya si ibu ini bapaknya itu yg...</td>\n",
       "    </tr>\n",
       "    <tr>\n",
       "      <th>4</th>\n",
       "      <td>patutlah mereka pindah kerja sel kl dengan put...</td>\n",
       "    </tr>\n",
       "  </tbody>\n",
       "</table>\n",
       "</div>"
      ],
      "text/plain": [
       "                                            lowering\n",
       "0  kalo dipikir2 kita sama2 pindah tempat kerja. ...\n",
       "1  @bandacatturas semangat . bisa kl kerja dsana ...\n",
       "2  semalam tgl dkt taman maluri. pagi ni bangun2 ...\n",
       "3  @tanyakanrl katanya si ibu ini bapaknya itu yg...\n",
       "4  patutlah mereka pindah kerja sel kl dengan put..."
      ]
     },
     "execution_count": 4,
     "metadata": {},
     "output_type": "execute_result"
    }
   ],
   "source": [
    "# menggunakan dataset hasil casefolding\n",
    "import pandas as pd\n",
    "\n",
    "df = pd.read_csv(\"hasilproses/hasilcasefolding.csv\")\n",
    "df.head(5)"
   ]
  },
  {
   "cell_type": "markdown",
   "metadata": {},
   "source": [
    "### Proses remove punctuation"
   ]
  },
  {
   "cell_type": "code",
   "execution_count": 16,
   "metadata": {},
   "outputs": [],
   "source": [
    "import re\n",
    "\n",
    "# Define regex patterns for removing punctuation\n",
    "clean_spcl = re.compile('[/(){}\\[\\]\\|@,;]')\n",
    "clean_symbol = re.compile('[^0-9a-z]')\n",
    "\n",
    "# Function to remove punctuation\n",
    "def clean_punct(text):\n",
    "    text = clean_spcl.sub('', text)  # Remove specific special characters\n",
    "    text = clean_symbol.sub(' ', text)  # Replace non-alphanumeric characters with a space\n",
    "    return text\n",
    "\n",
    "# Apply the punctuation removal to the case_folding column\n",
    "df['remove_punctuation'] = df['lowering'].apply(clean_punct)\n",
    "\n",
    "# Display the new dataframe\n",
    "df_remove_punct = pd.DataFrame(df['remove_punctuation'])\n",
    "df_remove_punct.to_csv('hasilproses/hasilremove_punctuation.csv', index=0)\n"
   ]
  },
  {
   "cell_type": "code",
   "execution_count": 17,
   "metadata": {},
   "outputs": [
    {
     "data": {
      "text/plain": [
       "Index(['remove_punctuation'], dtype='object')"
      ]
     },
     "execution_count": 17,
     "metadata": {},
     "output_type": "execute_result"
    }
   ],
   "source": [
    "hasilremovepunctuation = pd.read_csv('hasilproses/hasilremove_punctuation.csv')\n",
    "# hasilremovepunctuation.info\n",
    "# hasilremovepunctuation.head(5)\n",
    "hasilremovepunctuation.columns"
   ]
  }
 ],
 "metadata": {
  "kernelspec": {
   "display_name": "base",
   "language": "python",
   "name": "python3"
  },
  "language_info": {
   "codemirror_mode": {
    "name": "ipython",
    "version": 3
   },
   "file_extension": ".py",
   "mimetype": "text/x-python",
   "name": "python",
   "nbconvert_exporter": "python",
   "pygments_lexer": "ipython3",
   "version": "3.11.5"
  }
 },
 "nbformat": 4,
 "nbformat_minor": 2
}
