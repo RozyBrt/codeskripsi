{
 "cells": [
  {
   "cell_type": "code",
   "execution_count": 2,
   "metadata": {},
   "outputs": [
    {
     "data": {
      "text/html": [
       "<div>\n",
       "<style scoped>\n",
       "    .dataframe tbody tr th:only-of-type {\n",
       "        vertical-align: middle;\n",
       "    }\n",
       "\n",
       "    .dataframe tbody tr th {\n",
       "        vertical-align: top;\n",
       "    }\n",
       "\n",
       "    .dataframe thead th {\n",
       "        text-align: right;\n",
       "    }\n",
       "</style>\n",
       "<table border=\"1\" class=\"dataframe\">\n",
       "  <thead>\n",
       "    <tr style=\"text-align: right;\">\n",
       "      <th></th>\n",
       "      <th>remove_punctuation</th>\n",
       "    </tr>\n",
       "  </thead>\n",
       "  <tbody>\n",
       "    <tr>\n",
       "      <th>0</th>\n",
       "      <td>kalo dipikir2 kita sama2 pindah tempat kerja  ...</td>\n",
       "    </tr>\n",
       "    <tr>\n",
       "      <th>1</th>\n",
       "      <td>bandacatturas semangat   bisa kl kerja dsana c...</td>\n",
       "    </tr>\n",
       "    <tr>\n",
       "      <th>2</th>\n",
       "      <td>semalam tgl dkt taman maluri  pagi ni bangun2 ...</td>\n",
       "    </tr>\n",
       "    <tr>\n",
       "      <th>3</th>\n",
       "      <td>tanyakanrl katanya si ibu ini bapaknya itu yg ...</td>\n",
       "    </tr>\n",
       "    <tr>\n",
       "      <th>4</th>\n",
       "      <td>patutlah mereka pindah kerja sel kl dengan put...</td>\n",
       "    </tr>\n",
       "  </tbody>\n",
       "</table>\n",
       "</div>"
      ],
      "text/plain": [
       "                                  remove_punctuation\n",
       "0  kalo dipikir2 kita sama2 pindah tempat kerja  ...\n",
       "1  bandacatturas semangat   bisa kl kerja dsana c...\n",
       "2  semalam tgl dkt taman maluri  pagi ni bangun2 ...\n",
       "3  tanyakanrl katanya si ibu ini bapaknya itu yg ...\n",
       "4  patutlah mereka pindah kerja sel kl dengan put..."
      ]
     },
     "execution_count": 2,
     "metadata": {},
     "output_type": "execute_result"
    }
   ],
   "source": [
    "# menggunakan dataset hasil casefolding\n",
    "import pandas as pd\n",
    "\n",
    "df = pd.read_csv(\"hasilproses/hasilremove_punctuation.csv\")\n",
    "df.head(5)"
   ]
  },
  {
   "cell_type": "code",
   "execution_count": 5,
   "metadata": {},
   "outputs": [
    {
     "name": "stdout",
     "output_type": "stream",
     "text": [
      "                                     clean_stopwords\n",
      "0  kalo dipikir2 sama2 pindah kerja taemin pindah...\n",
      "1  bandacatturas semangat kl kerja dsana cepet pn...\n",
      "2  semalam tgl dkt taman maluri pagi ni bangun2 j...\n",
      "3  tanyakanrl si bapaknya yg kerja damkar jaktim ...\n",
      "4             patutlah pindah kerja sel kl putrajaya\n"
     ]
    }
   ],
   "source": [
    "from Sastrawi.StopWordRemover.StopWordRemoverFactory import StopWordRemoverFactory\n",
    "\n",
    "# Inisialisasi stopword remover dari Sastrawi\n",
    "factory = StopWordRemoverFactory()\n",
    "stopwords_sastrawi = set(factory.get_stop_words())  # Stopwords default dari Sastrawi\n",
    "\n",
    "# Fungsi untuk membaca stopwords dari file eksternal\n",
    "def load_stopwords(file_path):\n",
    "    with open(file_path, 'r') as file:\n",
    "        additional_stopwords = set(file.read().splitlines())  # Membaca stopwords dari file, setiap baris menjadi satu stopword\n",
    "    return additional_stopwords\n",
    "\n",
    "# Memuat stopwords dari file 'stopwords-id.txt'\n",
    "stopwords_file = load_stopwords('stopwords-id.txt')\n",
    "\n",
    "# Gabungkan stopwords dari Sastrawi dan stopwords dari file eksternal\n",
    "stopwords = stopwords_sastrawi.union(stopwords_file)\n",
    "\n",
    "# Fungsi untuk menghapus stopwords dari teks\n",
    "def clean_stopwords(text):\n",
    "    text = ' '.join(word for word in text.split() if word not in stopwords)\n",
    "    return text\n",
    "\n",
    "# Terapkan stopwords removal pada kolom 'remove_punctuation'\n",
    "df['clean_stopwords'] = df['remove_punctuation'].apply(clean_stopwords)\n",
    "\n",
    "# Tampilkan dataframe dengan hasil stopwords removal\n",
    "df_clean_stopwords = pd.DataFrame(df['clean_stopwords'])\n",
    "df_clean_stopwords.to_csv('hasilstopwordsremoval.csv', index=0)\n",
    "\n",
    "# Tampilkan beberapa baris untuk memastikan hasilnya\n",
    "print(df_clean_stopwords.head())"
   ]
  }
 ],
 "metadata": {
  "kernelspec": {
   "display_name": "base",
   "language": "python",
   "name": "python3"
  },
  "language_info": {
   "codemirror_mode": {
    "name": "ipython",
    "version": 3
   },
   "file_extension": ".py",
   "mimetype": "text/x-python",
   "name": "python",
   "nbconvert_exporter": "python",
   "pygments_lexer": "ipython3",
   "version": "3.11.5"
  }
 },
 "nbformat": 4,
 "nbformat_minor": 2
}
